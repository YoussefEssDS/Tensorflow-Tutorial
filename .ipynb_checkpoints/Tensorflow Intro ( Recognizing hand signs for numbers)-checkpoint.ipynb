{
 "cells": [
  {
   "cell_type": "markdown",
   "metadata": {},
   "source": [
    "# Introduction:"
   ]
  },
  {
   "cell_type": "markdown",
   "metadata": {},
   "source": [
    "We will be working with a dataset composed of images of hands making a number in different positions, our goal is to be able via an image of a hand indicationg a certain number to recognize that number with a good level of accuracy. \n",
    "\n",
    "This will help make machines more sign language friendly. You can find the dataset used for this tutorial in the following link:\n",
    "\n",
    "https://www.kaggle.com/koryakinp/fingers\n",
    "\n",
    "The dataset contains 21600 128x128 images of hands making a number sign. \n",
    "The train data contains 18000 images and the test data contains 3600 images.\n",
    "\n",
    "But before getting into business let's do a little warm-up with Tensorflow and explore its main functionalities."
   ]
  },
  {
   "cell_type": "code",
   "execution_count": 180,
   "metadata": {},
   "outputs": [],
   "source": [
    "import math\n",
    "import numpy as np\n",
    "import h5py\n",
    "import matplotlib.pyplot as plt\n",
    "import tensorflow as tf\n",
    "from tensorflow.python.framework import ops\n",
    "import pandas as pd"
   ]
  },
  {
   "cell_type": "markdown",
   "metadata": {},
   "source": [
    "## Tensorflow quick initialization:\n",
    "\n",
    "We will use tensorflow in the next section to calculate usual stuff we calculate in ML (Initialization, cost function, etc..) using the tensorflow framework to get used to it. This is not an attempt to reinvent the wheel (since Tensorflow contains functions that does most of the ML model building, training and testing tasks), but seems like a good way to get used to the dataflow pradigm. So without further ado let's get into it: "
   ]
  },
  {
   "cell_type": "code",
   "execution_count": 181,
   "metadata": {},
   "outputs": [
    {
     "name": "stdout",
     "output_type": "stream",
     "text": [
      "9\n"
     ]
    }
   ],
   "source": [
    "# We'll start by implementing the square difference loss function. \n",
    "\n",
    "y_hat = tf.constant(36, name='y_hat')            # y_hat Set to 36.\n",
    "y = tf.constant(39, name='y')                    # y Set to 39\n",
    "\n",
    "loss = tf.Variable((y - y_hat)**2, name='loss')  # Create a variable for the loss\n",
    "\n",
    "init = tf.global_variables_initializer()         # Creates an initaializer to be run in the session.\n",
    "                                                 # By defining the variables and operations to do we are creating\n",
    "                                                 # a computation graph, this latter can be computed fully or partially using\n",
    "                                                 # a Tensorflow session.\n",
    "            \n",
    "with tf.Session() as session:                    # Create a session and print the output\n",
    "    session.run(init)                            # Initializes the variables\n",
    "    print(session.run(loss))                     # Prints the loss"
   ]
  },
  {
   "cell_type": "markdown",
   "metadata": {},
   "source": [
    "To sum it up:\n",
    "Writing and running programs in TensorFlow has the following steps:\n",
    "\n",
    "1. Create Tensors (variables) that are not yet executed/evaluated.\n",
    "2. Write operations between those Tensors.\n",
    "3. Initialize your Tensors.\n",
    "4. Create a Session.\n",
    "5. Run the Session. This will run the operations you'd written above.\n"
   ]
  },
  {
   "cell_type": "markdown",
   "metadata": {},
   "source": [
    "Next, we'll introduce placeholders. A placeholder is an object whose value you can specify only later. To specify values for a placeholder, you can pass in values by using a \"feed dictionary\" (feed_dict variable)."
   ]
  },
  {
   "cell_type": "code",
   "execution_count": 182,
   "metadata": {},
   "outputs": [
    {
     "name": "stdout",
     "output_type": "stream",
     "text": [
      "6\n"
     ]
    }
   ],
   "source": [
    "# Example: This is generally used for creating a holder for the training data batches later on, also to initialize the models\n",
    "# hyperparameters: learning rate, keep_prob, etc...\n",
    "\n",
    "x = tf.placeholder(tf.int64, name = 'x')\n",
    "sess=tf.Session()\n",
    "print(sess.run(2 * x, feed_dict = {x: 3}))\n",
    "sess.close()"
   ]
  },
  {
   "cell_type": "markdown",
   "metadata": {},
   "source": [
    "Okay, now let's use Tensorflow powerfull tools to do this mini computer-vision project."
   ]
  },
  {
   "cell_type": "code",
   "execution_count": 183,
   "metadata": {},
   "outputs": [
    {
     "name": "stdout",
     "output_type": "stream",
     "text": [
      "['list_classes', 'train_set_x', 'train_set_y']\n",
      "(1080, 64, 64, 3) (1080,) (6,)\n"
     ]
    }
   ],
   "source": [
    "input_file = \"C:/Users/YsfEss/Desktop/train_signs.h5\"\n",
    "with h5py.File(input_file,'r') as hdf:\n",
    "    ls=list(hdf.keys())\n",
    "    xl=hdf.get('train_set_x')\n",
    "    yl=hdf.get('train_set_y')\n",
    "    cl=hdf.get('list_classes')\n",
    "    imgs=np.array(xl)\n",
    "    labels=np.array(yl)\n",
    "    classes=np.array(cl)\n",
    "print(ls)\n",
    "print(imgs.shape,labels.shape,classes.shape)"
   ]
  },
  {
   "cell_type": "code",
   "execution_count": 184,
   "metadata": {},
   "outputs": [
    {
     "name": "stdout",
     "output_type": "stream",
     "text": [
      "5\n"
     ]
    },
    {
     "data": {
      "text/plain": [
       "<matplotlib.image.AxesImage at 0x20ecb863e48>"
      ]
     },
     "execution_count": 184,
     "metadata": {},
     "output_type": "execute_result"
    },
    {
     "data": {
      "image/png": "[encoded data removed]",
      "text/plain": [
       "<Figure size 432x288 with 1 Axes>"
      ]
     },
     "metadata": {
      "needs_background": "light"
     },
     "output_type": "display_data"
    }
   ],
   "source": [
    "index=0\n",
    "print(classes[labels[index]])\n",
    "plt.imshow(imgs[index])"
   ]
  },
  {
   "cell_type": "code",
   "execution_count": 68,
   "metadata": {},
   "outputs": [
    {
     "data": {
      "text/html": [
       "<div>\n",
       "<style scoped>\n",
       "    .dataframe tbody tr th:only-of-type {\n",
       "        vertical-align: middle;\n",
       "    }\n",
       "\n",
       "    .dataframe tbody tr th {\n",
       "        vertical-align: top;\n",
       "    }\n",
       "\n",
       "    .dataframe thead th {\n",
       "        text-align: right;\n",
       "    }\n",
       "</style>\n",
       "<table border=\"1\" class=\"dataframe\">\n",
       "  <thead>\n",
       "    <tr style=\"text-align: right;\">\n",
       "      <th></th>\n",
       "      <th>0</th>\n",
       "      <th>1</th>\n",
       "      <th>2</th>\n",
       "      <th>3</th>\n",
       "      <th>4</th>\n",
       "      <th>5</th>\n",
       "      <th>6</th>\n",
       "      <th>7</th>\n",
       "      <th>8</th>\n",
       "      <th>9</th>\n",
       "      <th>...</th>\n",
       "      <th>12279</th>\n",
       "      <th>12280</th>\n",
       "      <th>12281</th>\n",
       "      <th>12282</th>\n",
       "      <th>12283</th>\n",
       "      <th>12284</th>\n",
       "      <th>12285</th>\n",
       "      <th>12286</th>\n",
       "      <th>12287</th>\n",
       "      <th>CLASS</th>\n",
       "    </tr>\n",
       "  </thead>\n",
       "  <tbody>\n",
       "    <tr>\n",
       "      <th>0</th>\n",
       "      <td>0.890196</td>\n",
       "      <td>0.862745</td>\n",
       "      <td>0.839216</td>\n",
       "      <td>0.890196</td>\n",
       "      <td>0.866667</td>\n",
       "      <td>0.843137</td>\n",
       "      <td>0.890196</td>\n",
       "      <td>0.870588</td>\n",
       "      <td>0.843137</td>\n",
       "      <td>0.890196</td>\n",
       "      <td>...</td>\n",
       "      <td>0.819608</td>\n",
       "      <td>0.823529</td>\n",
       "      <td>0.823529</td>\n",
       "      <td>0.819608</td>\n",
       "      <td>0.823529</td>\n",
       "      <td>0.819608</td>\n",
       "      <td>0.815686</td>\n",
       "      <td>0.819608</td>\n",
       "      <td>0.819608</td>\n",
       "      <td>5</td>\n",
       "    </tr>\n",
       "    <tr>\n",
       "      <th>1</th>\n",
       "      <td>0.933333</td>\n",
       "      <td>0.909804</td>\n",
       "      <td>0.874510</td>\n",
       "      <td>0.933333</td>\n",
       "      <td>0.909804</td>\n",
       "      <td>0.874510</td>\n",
       "      <td>0.933333</td>\n",
       "      <td>0.909804</td>\n",
       "      <td>0.874510</td>\n",
       "      <td>0.929412</td>\n",
       "      <td>...</td>\n",
       "      <td>0.839216</td>\n",
       "      <td>0.796078</td>\n",
       "      <td>0.760784</td>\n",
       "      <td>0.843137</td>\n",
       "      <td>0.796078</td>\n",
       "      <td>0.760784</td>\n",
       "      <td>0.843137</td>\n",
       "      <td>0.800000</td>\n",
       "      <td>0.752941</td>\n",
       "      <td>0</td>\n",
       "    </tr>\n",
       "    <tr>\n",
       "      <th>2</th>\n",
       "      <td>0.894118</td>\n",
       "      <td>0.862745</td>\n",
       "      <td>0.815686</td>\n",
       "      <td>0.894118</td>\n",
       "      <td>0.862745</td>\n",
       "      <td>0.815686</td>\n",
       "      <td>0.890196</td>\n",
       "      <td>0.858824</td>\n",
       "      <td>0.815686</td>\n",
       "      <td>0.890196</td>\n",
       "      <td>...</td>\n",
       "      <td>0.815686</td>\n",
       "      <td>0.800000</td>\n",
       "      <td>0.784314</td>\n",
       "      <td>0.823529</td>\n",
       "      <td>0.807843</td>\n",
       "      <td>0.788235</td>\n",
       "      <td>0.827451</td>\n",
       "      <td>0.811765</td>\n",
       "      <td>0.792157</td>\n",
       "      <td>2</td>\n",
       "    </tr>\n",
       "    <tr>\n",
       "      <th>3</th>\n",
       "      <td>0.894118</td>\n",
       "      <td>0.858824</td>\n",
       "      <td>0.815686</td>\n",
       "      <td>0.898039</td>\n",
       "      <td>0.858824</td>\n",
       "      <td>0.815686</td>\n",
       "      <td>0.894118</td>\n",
       "      <td>0.862745</td>\n",
       "      <td>0.815686</td>\n",
       "      <td>0.890196</td>\n",
       "      <td>...</td>\n",
       "      <td>0.780392</td>\n",
       "      <td>0.760784</td>\n",
       "      <td>0.760784</td>\n",
       "      <td>0.784314</td>\n",
       "      <td>0.764706</td>\n",
       "      <td>0.756863</td>\n",
       "      <td>0.788235</td>\n",
       "      <td>0.768627</td>\n",
       "      <td>0.756863</td>\n",
       "      <td>5</td>\n",
       "    </tr>\n",
       "    <tr>\n",
       "      <th>4</th>\n",
       "      <td>0.882353</td>\n",
       "      <td>0.850980</td>\n",
       "      <td>0.800000</td>\n",
       "      <td>0.882353</td>\n",
       "      <td>0.854902</td>\n",
       "      <td>0.803922</td>\n",
       "      <td>0.882353</td>\n",
       "      <td>0.854902</td>\n",
       "      <td>0.807843</td>\n",
       "      <td>0.882353</td>\n",
       "      <td>...</td>\n",
       "      <td>0.803922</td>\n",
       "      <td>0.792157</td>\n",
       "      <td>0.788235</td>\n",
       "      <td>0.792157</td>\n",
       "      <td>0.780392</td>\n",
       "      <td>0.776471</td>\n",
       "      <td>0.780392</td>\n",
       "      <td>0.764706</td>\n",
       "      <td>0.752941</td>\n",
       "      <td>2</td>\n",
       "    </tr>\n",
       "  </tbody>\n",
       "</table>\n",
       "<p>5 rows × 12289 columns</p>\n",
       "</div>"
      ],
      "text/plain": [
       "          0         1         2         3         4         5         6  \\\n",
       "0  0.890196  0.862745  0.839216  0.890196  0.866667  0.843137  0.890196   \n",
       "1  0.933333  0.909804  0.874510  0.933333  0.909804  0.874510  0.933333   \n",
       "2  0.894118  0.862745  0.815686  0.894118  0.862745  0.815686  0.890196   \n",
       "3  0.894118  0.858824  0.815686  0.898039  0.858824  0.815686  0.894118   \n",
       "4  0.882353  0.850980  0.800000  0.882353  0.854902  0.803922  0.882353   \n",
       "\n",
       "          7         8         9  ...     12279     12280     12281     12282  \\\n",
       "0  0.870588  0.843137  0.890196  ...  0.819608  0.823529  0.823529  0.819608   \n",
       "1  0.909804  0.874510  0.929412  ...  0.839216  0.796078  0.760784  0.843137   \n",
       "2  0.858824  0.815686  0.890196  ...  0.815686  0.800000  0.784314  0.823529   \n",
       "3  0.862745  0.815686  0.890196  ...  0.780392  0.760784  0.760784  0.784314   \n",
       "4  0.854902  0.807843  0.882353  ...  0.803922  0.792157  0.788235  0.792157   \n",
       "\n",
       "      12283     12284     12285     12286     12287  CLASS  \n",
       "0  0.823529  0.819608  0.815686  0.819608  0.819608      5  \n",
       "1  0.796078  0.760784  0.843137  0.800000  0.752941      0  \n",
       "2  0.807843  0.788235  0.827451  0.811765  0.792157      2  \n",
       "3  0.764706  0.756863  0.788235  0.768627  0.756863      5  \n",
       "4  0.780392  0.776471  0.780392  0.764706  0.752941      2  \n",
       "\n",
       "[5 rows x 12289 columns]"
      ]
     },
     "execution_count": 68,
     "metadata": {},
     "output_type": "execute_result"
    }
   ],
   "source": [
    "n=imgs.shape[0] # Number of observations.\n",
    "p=imgs.shape[1]*imgs.shape[2]*imgs.shape[3] # Number of attributes/features.\n",
    "data=imgs.reshape(n,p)\n",
    "TrData=pd.DataFrame(data=data)\n",
    "# Neural network means we have to normalize our data by deviding each entry by 255.\n",
    "TrData=TrData.applymap(lambda x:x/255)\n",
    "labels=pd.DataFrame(data=labels,columns=['CLASS'])\n",
    "TrData=pd.concat([TrData,labels],axis=1)\n",
    "TrData.head()"
   ]
  },
  {
   "cell_type": "markdown",
   "metadata": {},
   "source": [
    " Train data done and dusted, now for the test dataset. "
   ]
  },
  {
   "cell_type": "code",
   "execution_count": 70,
   "metadata": {},
   "outputs": [
    {
     "name": "stdout",
     "output_type": "stream",
     "text": [
      "(120, 64, 64, 3) (120,) (6,)\n"
     ]
    }
   ],
   "source": [
    "input_file = \"C:/Users/YsfEss/Desktop/test_signs.h5\"\n",
    "with h5py.File(input_file,'r') as hdf1:\n",
    "    ls1=list(hdf1.keys())\n",
    "    xl1=hdf1.get('test_set_x')\n",
    "    yl1=hdf1.get('test_set_y')\n",
    "    cl1=hdf1.get('list_classes')\n",
    "    imgs1=np.array(xl1)\n",
    "    labels1=np.array(yl1)\n",
    "    classes=np.array(cl1)\n",
    "print(imgs1.shape,labels1.shape,classes.shape)"
   ]
  },
  {
   "cell_type": "code",
   "execution_count": 71,
   "metadata": {},
   "outputs": [
    {
     "data": {
      "text/html": [
       "<div>\n",
       "<style scoped>\n",
       "    .dataframe tbody tr th:only-of-type {\n",
       "        vertical-align: middle;\n",
       "    }\n",
       "\n",
       "    .dataframe tbody tr th {\n",
       "        vertical-align: top;\n",
       "    }\n",
       "\n",
       "    .dataframe thead th {\n",
       "        text-align: right;\n",
       "    }\n",
       "</style>\n",
       "<table border=\"1\" class=\"dataframe\">\n",
       "  <thead>\n",
       "    <tr style=\"text-align: right;\">\n",
       "      <th></th>\n",
       "      <th>0</th>\n",
       "      <th>1</th>\n",
       "      <th>2</th>\n",
       "      <th>3</th>\n",
       "      <th>4</th>\n",
       "      <th>5</th>\n",
       "      <th>6</th>\n",
       "      <th>7</th>\n",
       "      <th>8</th>\n",
       "      <th>9</th>\n",
       "      <th>...</th>\n",
       "      <th>12279</th>\n",
       "      <th>12280</th>\n",
       "      <th>12281</th>\n",
       "      <th>12282</th>\n",
       "      <th>12283</th>\n",
       "      <th>12284</th>\n",
       "      <th>12285</th>\n",
       "      <th>12286</th>\n",
       "      <th>12287</th>\n",
       "      <th>CLASS</th>\n",
       "    </tr>\n",
       "  </thead>\n",
       "  <tbody>\n",
       "    <tr>\n",
       "      <th>0</th>\n",
       "      <td>0.905882</td>\n",
       "      <td>0.878431</td>\n",
       "      <td>0.847059</td>\n",
       "      <td>0.909804</td>\n",
       "      <td>0.878431</td>\n",
       "      <td>0.847059</td>\n",
       "      <td>0.909804</td>\n",
       "      <td>0.882353</td>\n",
       "      <td>0.850980</td>\n",
       "      <td>0.909804</td>\n",
       "      <td>...</td>\n",
       "      <td>0.850980</td>\n",
       "      <td>0.800000</td>\n",
       "      <td>0.764706</td>\n",
       "      <td>0.854902</td>\n",
       "      <td>0.800000</td>\n",
       "      <td>0.764706</td>\n",
       "      <td>0.850980</td>\n",
       "      <td>0.800000</td>\n",
       "      <td>0.756863</td>\n",
       "      <td>0</td>\n",
       "    </tr>\n",
       "    <tr>\n",
       "      <th>1</th>\n",
       "      <td>0.905882</td>\n",
       "      <td>0.874510</td>\n",
       "      <td>0.843137</td>\n",
       "      <td>0.905882</td>\n",
       "      <td>0.874510</td>\n",
       "      <td>0.843137</td>\n",
       "      <td>0.909804</td>\n",
       "      <td>0.878431</td>\n",
       "      <td>0.847059</td>\n",
       "      <td>0.909804</td>\n",
       "      <td>...</td>\n",
       "      <td>0.713725</td>\n",
       "      <td>0.650980</td>\n",
       "      <td>0.607843</td>\n",
       "      <td>0.705882</td>\n",
       "      <td>0.639216</td>\n",
       "      <td>0.588235</td>\n",
       "      <td>0.690196</td>\n",
       "      <td>0.623529</td>\n",
       "      <td>0.564706</td>\n",
       "      <td>0</td>\n",
       "    </tr>\n",
       "    <tr>\n",
       "      <th>2</th>\n",
       "      <td>0.901961</td>\n",
       "      <td>0.878431</td>\n",
       "      <td>0.847059</td>\n",
       "      <td>0.901961</td>\n",
       "      <td>0.878431</td>\n",
       "      <td>0.847059</td>\n",
       "      <td>0.901961</td>\n",
       "      <td>0.878431</td>\n",
       "      <td>0.847059</td>\n",
       "      <td>0.898039</td>\n",
       "      <td>...</td>\n",
       "      <td>0.819608</td>\n",
       "      <td>0.772549</td>\n",
       "      <td>0.737255</td>\n",
       "      <td>0.819608</td>\n",
       "      <td>0.776471</td>\n",
       "      <td>0.737255</td>\n",
       "      <td>0.819608</td>\n",
       "      <td>0.776471</td>\n",
       "      <td>0.733333</td>\n",
       "      <td>0</td>\n",
       "    </tr>\n",
       "    <tr>\n",
       "      <th>3</th>\n",
       "      <td>0.913725</td>\n",
       "      <td>0.890196</td>\n",
       "      <td>0.858824</td>\n",
       "      <td>0.913725</td>\n",
       "      <td>0.894118</td>\n",
       "      <td>0.858824</td>\n",
       "      <td>0.913725</td>\n",
       "      <td>0.890196</td>\n",
       "      <td>0.858824</td>\n",
       "      <td>0.909804</td>\n",
       "      <td>...</td>\n",
       "      <td>0.258824</td>\n",
       "      <td>0.250980</td>\n",
       "      <td>0.250980</td>\n",
       "      <td>0.094118</td>\n",
       "      <td>0.101961</td>\n",
       "      <td>0.125490</td>\n",
       "      <td>0.078431</td>\n",
       "      <td>0.090196</td>\n",
       "      <td>0.113725</td>\n",
       "      <td>5</td>\n",
       "    </tr>\n",
       "    <tr>\n",
       "      <th>4</th>\n",
       "      <td>0.886275</td>\n",
       "      <td>0.854902</td>\n",
       "      <td>0.823529</td>\n",
       "      <td>0.890196</td>\n",
       "      <td>0.854902</td>\n",
       "      <td>0.823529</td>\n",
       "      <td>0.886275</td>\n",
       "      <td>0.858824</td>\n",
       "      <td>0.823529</td>\n",
       "      <td>0.886275</td>\n",
       "      <td>...</td>\n",
       "      <td>0.792157</td>\n",
       "      <td>0.788235</td>\n",
       "      <td>0.784314</td>\n",
       "      <td>0.792157</td>\n",
       "      <td>0.788235</td>\n",
       "      <td>0.784314</td>\n",
       "      <td>0.792157</td>\n",
       "      <td>0.788235</td>\n",
       "      <td>0.784314</td>\n",
       "      <td>1</td>\n",
       "    </tr>\n",
       "  </tbody>\n",
       "</table>\n",
       "<p>5 rows × 12289 columns</p>\n",
       "</div>"
      ],
      "text/plain": [
       "          0         1         2         3         4         5         6  \\\n",
       "0  0.905882  0.878431  0.847059  0.909804  0.878431  0.847059  0.909804   \n",
       "1  0.905882  0.874510  0.843137  0.905882  0.874510  0.843137  0.909804   \n",
       "2  0.901961  0.878431  0.847059  0.901961  0.878431  0.847059  0.901961   \n",
       "3  0.913725  0.890196  0.858824  0.913725  0.894118  0.858824  0.913725   \n",
       "4  0.886275  0.854902  0.823529  0.890196  0.854902  0.823529  0.886275   \n",
       "\n",
       "          7         8         9  ...     12279     12280     12281     12282  \\\n",
       "0  0.882353  0.850980  0.909804  ...  0.850980  0.800000  0.764706  0.854902   \n",
       "1  0.878431  0.847059  0.909804  ...  0.713725  0.650980  0.607843  0.705882   \n",
       "2  0.878431  0.847059  0.898039  ...  0.819608  0.772549  0.737255  0.819608   \n",
       "3  0.890196  0.858824  0.909804  ...  0.258824  0.250980  0.250980  0.094118   \n",
       "4  0.858824  0.823529  0.886275  ...  0.792157  0.788235  0.784314  0.792157   \n",
       "\n",
       "      12283     12284     12285     12286     12287  CLASS  \n",
       "0  0.800000  0.764706  0.850980  0.800000  0.756863      0  \n",
       "1  0.639216  0.588235  0.690196  0.623529  0.564706      0  \n",
       "2  0.776471  0.737255  0.819608  0.776471  0.733333      0  \n",
       "3  0.101961  0.125490  0.078431  0.090196  0.113725      5  \n",
       "4  0.788235  0.784314  0.792157  0.788235  0.784314      1  \n",
       "\n",
       "[5 rows x 12289 columns]"
      ]
     },
     "execution_count": 71,
     "metadata": {},
     "output_type": "execute_result"
    }
   ],
   "source": [
    "tdata=imgs1.reshape(imgs1.shape[0],imgs1.shape[1]*imgs1.shape[2]*imgs1.shape[3])\n",
    "teD=pd.DataFrame(data=tdata)\n",
    "testD=teD.applymap(lambda x: x/255)\n",
    "labelsT=pd.DataFrame(data=labels1,columns=['CLASS'])\n",
    "teData=pd.concat([testD,labelsT],axis=1)\n",
    "teData.head()"
   ]
  },
  {
   "cell_type": "markdown",
   "metadata": {},
   "source": [
    "This problem is very similar to the one done on the Cat Vs. Not cat project. The only difference is that in this case we have multiple outputs possible. So, we will be using softmax output instead. \n",
    "\n",
    "So the model that will be used is the following: (2 hidden layers 25 units in first and 12 in second) INPUT -> RELU -> RELU -> SOFTMAX. "
   ]
  },
  {
   "cell_type": "code",
   "execution_count": 98,
   "metadata": {},
   "outputs": [],
   "source": [
    "# First, let's create placeholders for X and Y. That will be used for training later on. \n",
    "\n",
    "def createPlaceholder(n_x,n_y):\n",
    "    X=tf.placeholder(dtype=tf.float32,shape=[n_x,None],name='X')\n",
    "    Y=tf.placeholder(dtype=tf.float32,shape=[n_y,None],name='Y')\n",
    "    return(X,Y)"
   ]
  },
  {
   "cell_type": "code",
   "execution_count": 127,
   "metadata": {},
   "outputs": [],
   "source": [
    "def intializePar():\n",
    "    W1=tf.get_variable(name='W1',shape=[25, 12288],initializer = tf.contrib.layers.xavier_initializer()) # Xavier intilization helps with stability of variance of inputs/outputs through each layers, in the grand scheme of avoiding exploding/vanishing gradients.\n",
    "    b1=tf.get_variable(name='b1',shape=[25, 1],initializer = tf.contrib.layers.xavier_initializer())\n",
    "    W2=tf.get_variable(name='W2',shape=[12, 25],initializer = tf.contrib.layers.xavier_initializer())\n",
    "    b2=tf.get_variable(name='b2',shape=[12, 1],initializer = tf.contrib.layers.xavier_initializer())\n",
    "    W3=tf.get_variable(name='W3',shape=[6, 12],initializer = tf.contrib.layers.xavier_initializer())\n",
    "    b3=tf.get_variable(name='b3',shape=[6, 1],initializer = tf.contrib.layers.xavier_initializer())\n",
    "    parameters={'W1':W1,\n",
    "                'b1':b1,\n",
    "                'W2':W2,\n",
    "                'b2':b2,\n",
    "                'W3':W3,\n",
    "                'b3':b3}\n",
    "    return(parameters)"
   ]
  },
  {
   "cell_type": "markdown",
   "metadata": {},
   "source": [
    "So we will now start with the learning process, first of all forward propagation."
   ]
  },
  {
   "cell_type": "code",
   "execution_count": 135,
   "metadata": {},
   "outputs": [],
   "source": [
    "def forward_prop(X,parameters):\n",
    "    \n",
    "    # Retrieve the parameters from the dictionary \"parameters\" \n",
    "    W1 = parameters['W1']\n",
    "    b1 = parameters['b1']\n",
    "    W2 = parameters['W2']\n",
    "    b2 = parameters['b2']\n",
    "    W3 = parameters['W3']\n",
    "    b3 = parameters['b3']\n",
    "    \n",
    "\n",
    "    Z1 = tf.add(tf.matmul(W1,X),b1) \n",
    "    A1 = tf.nn.relu(Z1) \n",
    "    Z2 = tf.add(tf.matmul(W2,A1),b2)\n",
    "    A2 = tf.nn.relu(Z2) \n",
    "    Z3 = tf.add(tf.matmul(W3,A2),b3)                                               \n",
    "    \n",
    "    return Z3"
   ]
  },
  {
   "cell_type": "markdown",
   "metadata": {},
   "source": [
    "Now we will implement the cost function."
   ]
  },
  {
   "cell_type": "code",
   "execution_count": 107,
   "metadata": {},
   "outputs": [],
   "source": [
    "def compute_cost(Z3, Y):\n",
    "    \n",
    "    predicted = tf.transpose(Z3)\n",
    "    real = tf.transpose(Y)\n",
    "    \n",
    "    cost = tf.reduce_mean(tf.nn.softmax_cross_entropy_with_logits(logits=predicted,labels=real))\n",
    "    \n",
    "    return cost"
   ]
  },
  {
   "cell_type": "code",
   "execution_count": 136,
   "metadata": {},
   "outputs": [],
   "source": [
    "# Create the mini batches\n",
    "def random_mini_batches(X, Y, mini_batch_size = 64):\n",
    "    \n",
    "    m = X.shape[1]                  # number of training examples\n",
    "    mini_batches = []\n",
    "    \n",
    "    # Step 1: Shuffle (X, Y)\n",
    "    permutation = list(np.random.permutation(m))\n",
    "    shuffled_X = X[:, permutation]\n",
    "    shuffled_Y = Y[:, permutation].reshape((Y.shape[0],m))\n",
    "\n",
    "    # Step 2: Partition (shuffled_X, shuffled_Y)\n",
    "    num_minibatches = math.floor(m/mini_batch_size) # Returns larger integer that is inferior or equal to m/mini_batch_size.\n",
    "    for k in range(0, num_minibatches):\n",
    "        mini_batch_X = shuffled_X[:, k * mini_batch_size : (k+1) * mini_batch_size]\n",
    "        mini_batch_Y = shuffled_Y[:, k * mini_batch_size : (k+1) * mini_batch_size]\n",
    "        mini_batch = (mini_batch_X, mini_batch_Y)\n",
    "        mini_batches.append(mini_batch)\n",
    "    \n",
    "    if m % mini_batch_size != 0:\n",
    "        mini_batch_X = shuffled_X[:, num_minibatches * mini_batch_size : m]\n",
    "        mini_batch_Y = shuffled_Y[:, num_minibatches * mini_batch_size : m]\n",
    "        mini_batch = (mini_batch_X, mini_batch_Y)\n",
    "        mini_batches.append(mini_batch)\n",
    "    \n",
    "    return mini_batches"
   ]
  },
  {
   "cell_type": "markdown",
   "metadata": {},
   "source": [
    "Finally, Backpropagation and parameters update."
   ]
  },
  {
   "cell_type": "code",
   "execution_count": 186,
   "metadata": {},
   "outputs": [],
   "source": [
    "def model(X_train, Y_train, X_test, Y_test, learning_rate = 0.0001,num_epochs = 1500, minibatch_size = 32):\n",
    "    \n",
    "    \n",
    "    ops.reset_default_graph()                         # to be able to rerun the model without overwriting tf variables\n",
    "    (n_x, m) = X_train.shape                          # (n_x: input size, m : number of examples in the train set)\n",
    "    n_y = Y_train.shape[0]                            # n_y : output size\n",
    "    costs = []                                        # To keep track of the cost\n",
    "    \n",
    "    # Create Placeholders of shape (n_x,None and n_y,None) None means any size this usefull since we want to use mini-batch optimization.\n",
    "    X, Y = createPlaceholder(n_x,n_y)\n",
    "\n",
    "    # Parameters initialization\n",
    "    parameters = intializePar()\n",
    "    \n",
    "    # Forward propagation: Build the forward propagation in the tensorflow graph\n",
    "    Z3 = forward_prop(X,parameters)\n",
    "    \n",
    "    cost = compute_cost(Z3,Y)\n",
    "    \n",
    "    # Backpropagation: Define the tensorflow optimizer. We will use Adam optimizer for this problem.\n",
    "    \n",
    "    optimizer = tf.train.AdamOptimizer(learning_rate).minimize(cost)\n",
    "   \n",
    "    \n",
    "    # Initialize all the variables\n",
    "    init = tf.global_variables_initializer()\n",
    "\n",
    "    # Start the session to compute the tensorflow graph\n",
    "    with tf.Session() as sess:\n",
    "        \n",
    "        sess.run(init)\n",
    "        \n",
    "        # Training loop\n",
    "        for epoch in range(num_epochs):\n",
    "\n",
    "            epoch_cost = 0.                       # Defines a cost related to an epoch\n",
    "            num_minibatches = int(m / minibatch_size) \n",
    "            minibatches = random_mini_batches(X_train, Y_train, minibatch_size)\n",
    "\n",
    "            for minibatch in minibatches:\n",
    "\n",
    "                # Select a minibatch\n",
    "                (minibatch_X, minibatch_Y) = minibatch\n",
    "                \n",
    "                # IMPORTANT: The line that runs the graph on a minibatch.\n",
    "                \n",
    "                _ , minibatch_cost = sess.run([optimizer, cost], feed_dict={X: minibatch_X, Y: minibatch_Y})\n",
    "                \n",
    "                \n",
    "                epoch_cost += minibatch_cost / num_minibatches\n",
    "\n",
    "            # Print the cost every 100 epoch\n",
    "            if epoch % 100 == 0:\n",
    "                print (\"Cost after epoch %i: %f\" % (epoch, epoch_cost))\n",
    "            if epoch % 5==0:\n",
    "                costs.append(epoch_cost)\n",
    "                \n",
    "                \n",
    "        # plot the cost\n",
    "        plt.plot(np.squeeze(costs))\n",
    "        plt.ylabel('cost')\n",
    "        plt.xlabel('iterations (per tens)')\n",
    "        plt.title(\"Learning rate =\" + str(learning_rate))\n",
    "        plt.show()\n",
    "\n",
    "        # lets save the parameters in a variable\n",
    "        parameters = sess.run(parameters)\n",
    "        print (\"Parameters have been trained!\")\n",
    "\n",
    "        # Calculate the correct predictions\n",
    "        correct_prediction = tf.equal(tf.argmax(Z3), tf.argmax(Y)) # The output is one hot vector so the index of 1 must match the labels for correct predcitons\n",
    "\n",
    "        # Calculate accuracy on the test set\n",
    "        accuracy = tf.reduce_mean(tf.cast(correct_prediction, \"float\"))\n",
    "\n",
    "        print (\"Train Accuracy:\", accuracy.eval({X: X_train, Y: Y_train})) # Seems like magic but well, that's Tensorflow\n",
    "        print (\"Test Accuracy:\", accuracy.eval({X: X_test, Y: Y_test}))  # Calling this method eval will execute all preceding operations \n",
    "                                                                        #that produce the inputs needed for the operation that\n",
    "                                                                        #produces this tensor.\n",
    "                                                                        #Caution: The feed must not be a Tf tensor instead a numpy array.\n",
    "        \n",
    "        return parameters"
   ]
  },
  {
   "cell_type": "code",
   "execution_count": 187,
   "metadata": {},
   "outputs": [],
   "source": [
    "X_train=TrData.loc[:, TrData.columns != 'CLASS'].T.to_numpy()\n",
    "Y_train=TrData.loc[:, TrData.columns=='CLASS'].T.to_numpy()\n",
    "X_test=teData.loc[:, teData.columns != 'CLASS'].T.to_numpy()\n",
    "Y_test=teData.loc[:, teData.columns=='CLASS'].T.to_numpy()"
   ]
  },
  {
   "cell_type": "code",
   "execution_count": 189,
   "metadata": {},
   "outputs": [],
   "source": [
    "# Caution: You must before starting training make sure that your outputs are 0ne_hot coded.\n",
    "def convert_to_one_hot(Y, C):\n",
    "    Y = np.eye(C)[Y.reshape(-1)].T\n",
    "    return Y"
   ]
  },
  {
   "cell_type": "code",
   "execution_count": 190,
   "metadata": {},
   "outputs": [],
   "source": [
    "Y_train=convert_to_one_hot(Y_train,6)\n",
    "Y_test=convert_to_one_hot(Y_test,6)"
   ]
  },
  {
   "cell_type": "code",
   "execution_count": 191,
   "metadata": {},
   "outputs": [
    {
     "name": "stdout",
     "output_type": "stream",
     "text": [
      "Cost after epoch 0: 1.956510\n",
      "Cost after epoch 100: 1.093006\n",
      "Cost after epoch 200: 0.793944\n",
      "Cost after epoch 300: 0.600231\n",
      "Cost after epoch 400: 0.439077\n",
      "Cost after epoch 500: 0.330592\n",
      "Cost after epoch 600: 0.234940\n",
      "Cost after epoch 700: 0.171177\n",
      "Cost after epoch 800: 0.124197\n",
      "Cost after epoch 900: 0.082712\n",
      "Cost after epoch 1000: 0.070395\n",
      "Cost after epoch 1100: 0.038022\n",
      "Cost after epoch 1200: 0.025601\n",
      "Cost after epoch 1300: 0.026190\n",
      "Cost after epoch 1400: 0.012433\n"
     ]
    },
    {
     "data": {
      "image/png": "[encoded data removed]",
      "text/plain": [
       "<Figure size 432x288 with 1 Axes>"
      ]
     },
     "metadata": {
      "needs_background": "light"
     },
     "output_type": "display_data"
    },
    {
     "name": "stdout",
     "output_type": "stream",
     "text": [
      "Parameters have been trained!\n",
      "Train Accuracy: 0.9990741\n",
      "Test Accuracy: 0.75\n"
     ]
    }
   ],
   "source": [
    "parameters = model(X_train, Y_train, X_test, Y_test)"
   ]
  },
  {
   "cell_type": "markdown",
   "metadata": {},
   "source": [
    "Seems like a good test accuracy for a shallow neural network, we can further tune the hyperparameters and also use other regularization techniques such as drop out and find better models."
   ]
  }
 ],
 "metadata": {
  "kernelspec": {
   "display_name": "Python 3",
   "language": "python",
   "name": "python3"
  },
  "language_info": {
   "codemirror_mode": {
    "name": "ipython",
    "version": 3
   },
   "file_extension": ".py",
   "mimetype": "text/x-python",
   "name": "python",
   "nbconvert_exporter": "python",
   "pygments_lexer": "ipython3",
   "version": "3.7.3"
  }
 },
 "nbformat": 4,
 "nbformat_minor": 2
}
