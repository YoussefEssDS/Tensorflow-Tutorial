{
 "cells": [
  {
   "cell_type": "markdown",
   "metadata": {},
   "source": [
    "# Introduction:"
   ]
  },
  {
   "cell_type": "markdown",
   "metadata": {},
   "source": [
    "We will be working with a dataset composed of images of hands making a number in different positions, our goal is to be able via an image of a hand indicationg a certain number to recognize that number with a good level of accuracy. \n",
    "\n",
    "This will help make machines more sign language friendly. You can find the dataset used for this tutorial in the following link:\n",
    "\n",
    "https://www.kaggle.com/koryakinp/fingers\n",
    "\n",
    "The dataset contains 21600 128x128 images of hands making a number sign. \n",
    "The train data contains 18000 images and the test data contains 3600 images.\n",
    "\n",
    "But before getting into business let's do a little warm-up with Tensorflow and explore its main functionalities."
   ]
  },
  {
   "cell_type": "code",
   "execution_count": 2,
   "metadata": {},
   "outputs": [],
   "source": [
    "import math\n",
    "import numpy as np\n",
    "import h5py\n",
    "import matplotlib.pyplot as plt\n",
    "import tensorflow as tf\n",
    "from tensorflow.python.framework import ops"
   ]
  },
  {
   "cell_type": "code",
   "execution_count": 3,
   "metadata": {},
   "outputs": [
    {
     "name": "stdout",
     "output_type": "stream",
     "text": [
      "['list_classes', 'train_set_x', 'train_set_y']\n",
      "(1080, 64, 64, 3) (1080,) (6,)\n"
     ]
    }
   ],
   "source": [
    "input_file = \"C:/Users/YsfEss/Desktop/train_signs.h5\"\n",
    "with h5py.File(input_file,'r') as hdf:\n",
    "    ls=list(hdf.keys())\n",
    "    xl=hdf.get('train_set_x')\n",
    "    yl=hdf.get('train_set_y')\n",
    "    cl=hdf.get('list_classes')\n",
    "    imgs=np.array(xl)\n",
    "    labels=np.array(yl)\n",
    "    classes=np.array(cl)\n",
    "print(ls)\n",
    "print(imgs.shape,labels.shape,classes.shape)"
   ]
  },
  {
   "cell_type": "code",
   "execution_count": 4,
   "metadata": {},
   "outputs": [
    {
     "name": "stdout",
     "output_type": "stream",
     "text": [
      "2\n"
     ]
    },
    {
     "data": {
      "text/plain": [
       "<matplotlib.image.AxesImage at 0x1d4364e3da0>"
      ]
     },
     "execution_count": 4,
     "metadata": {},
     "output_type": "execute_result"
    },
    {
     "data": {
      "image/png": "[encoded data removed]",
      "text/plain": [
       "<Figure size 432x288 with 1 Axes>"
      ]
     },
     "metadata": {
      "needs_background": "light"
     },
     "output_type": "display_data"
    }
   ],
   "source": [
    "index=2\n",
    "print(classes[labels[index]])\n",
    "plt.imshow(imgs[index])"
   ]
  },
  {
   "cell_type": "code",
   "execution_count": null,
   "metadata": {},
   "outputs": [],
   "source": []
  }
 ],
 "metadata": {
  "kernelspec": {
   "display_name": "Python 3",
   "language": "python",
   "name": "python3"
  },
  "language_info": {
   "codemirror_mode": {
    "name": "ipython",
    "version": 3
   },
   "file_extension": ".py",
   "mimetype": "text/x-python",
   "name": "python",
   "nbconvert_exporter": "python",
   "pygments_lexer": "ipython3",
   "version": "3.7.3"
  }
 },
 "nbformat": 4,
 "nbformat_minor": 2
}
