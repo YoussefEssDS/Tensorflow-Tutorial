{
 "cells": [
  {
   "cell_type": "markdown",
   "metadata": {},
   "source": [
    "# Introduction:"
   ]
  },
  {
   "cell_type": "markdown",
   "metadata": {},
   "source": [
    "We will be working with a dataset composed of images of hands making a number in different positions, our goal is to be able via an image of a hand indicationg a certain number to recognize that number with a good level of accuracy. \n",
    "\n",
    "This will help make machines more sign language friendly. You can find the dataset used for this tutorial in the following link:\n",
    "\n",
    "https://www.kaggle.com/koryakinp/fingers\n",
    "\n",
    "The dataset contains 21600 128x128 images of hands making a number sign. \n",
    "The train data contains 18000 images and the test data contains 3600 images.\n",
    "\n",
    "But before getting into business let's do a little warm-up with Tensorflow and explore its main functionalities."
   ]
  },
  {
   "cell_type": "markdown",
   "metadata": {},
   "source": [
    "![image info](./1.png) $ y = 1$  ![image info](./0.png) $y = 0$  ![image info](./5.png) $y = 5$ "
   ]
  },
  {
   "cell_type": "code",
   "execution_count": null,
   "metadata": {},
   "outputs": [],
   "source": []
  }
 ],
 "metadata": {
  "kernelspec": {
   "display_name": "Python 3",
   "language": "python",
   "name": "python3"
  },
  "language_info": {
   "codemirror_mode": {
    "name": "ipython",
    "version": 3
   },
   "file_extension": ".py",
   "mimetype": "text/x-python",
   "name": "python",
   "nbconvert_exporter": "python",
   "pygments_lexer": "ipython3",
   "version": "3.7.3"
  }
 },
 "nbformat": 4,
 "nbformat_minor": 2
}
