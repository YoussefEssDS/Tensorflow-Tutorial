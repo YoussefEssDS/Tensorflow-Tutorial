{
 "cells": [
  {
   "cell_type": "markdown",
   "metadata": {},
   "source": [
    "# Introduction:"
   ]
  },
  {
   "cell_type": "markdown",
   "metadata": {},
   "source": [
    "We will be working with a dataset composed of images of hands making a number in different positions, our goal is to be able via an image of a hand indicationg a certain number to recognize that number with a good level of accuracy. \n",
    "\n",
    "This will help make machines more sign language friendly. You can find the dataset used for this tutorial in the following link:\n",
    "\n",
    "https://www.kaggle.com/koryakinp/fingers\n",
    "\n",
    "The dataset contains 21600 128x128 images of hands making a number sign. \n",
    "The train data contains 18000 images and the test data contains 3600 images.\n",
    "\n",
    "But before getting into business let's do a little warm-up with Tensorflow and explore its main functionalities."
   ]
  },
  {
   "cell_type": "code",
   "execution_count": 9,
   "metadata": {},
   "outputs": [],
   "source": [
    "import math\n",
    "import numpy as np\n",
    "import h5py\n",
    "import matplotlib.pyplot as plt\n",
    "import tensorflow as tf\n",
    "from tensorflow.python.framework import ops\n",
    "import pandas as pd"
   ]
  },
  {
   "cell_type": "markdown",
   "metadata": {},
   "source": [
    "## Tensorflow quick initialization:\n",
    "\n",
    "We will use tensorflow in the next section to calculate usual stuff we calculate in ML using the tensorflow to get used to it. This is not an attempt to reinvent the wheel (since Tensorflow contains functions that does most of the ML model building, training and testing), but seems like a good way to get used to the dataflow pradigm. So without further ado let's get into it: "
   ]
  },
  {
   "cell_type": "code",
   "execution_count": 4,
   "metadata": {},
   "outputs": [
    {
     "name": "stdout",
     "output_type": "stream",
     "text": [
      "WARNING:tensorflow:From C:\\Users\\YsfEss\\Anaconda3\\lib\\site-packages\\tensorflow\\python\\framework\\op_def_library.py:263: colocate_with (from tensorflow.python.framework.ops) is deprecated and will be removed in a future version.\n",
      "Instructions for updating:\n",
      "Colocations handled automatically by placer.\n",
      "9\n"
     ]
    }
   ],
   "source": [
    "# We'll start by implementing the square difference loss function. \n",
    "\n",
    "y_hat = tf.constant(36, name='y_hat')            # y_hat Set to 36.\n",
    "y = tf.constant(39, name='y')                    # y Set to 39\n",
    "\n",
    "loss = tf.Variable((y - y_hat)**2, name='loss')  # Create a variable for the loss\n",
    "\n",
    "init = tf.global_variables_initializer()         # Creates an initaializer to be run in the session,\n",
    "                                                 # by defining the operations to do, and the variables we are creating\n",
    "                                                 # a computation graph, this latter can be computed fully or partially using\n",
    "                                                 # a Tensorflow session.\n",
    "with tf.Session() as session:                    # Create a session and print the output\n",
    "    session.run(init)                            # Initializes the variables\n",
    "    print(session.run(loss))                     # Prints the loss"
   ]
  },
  {
   "cell_type": "markdown",
   "metadata": {},
   "source": [
    "To sum it up:\n",
    "Writing and running programs in TensorFlow has the following steps:\n",
    "\n",
    "1. Create Tensors (variables) that are not yet executed/evaluated.\n",
    "2. Write operations between those Tensors.\n",
    "3. Initialize your Tensors.\n",
    "4. Create a Session.\n",
    "5. Run the Session. This will run the operations you'd written above.\n"
   ]
  },
  {
   "cell_type": "markdown",
   "metadata": {},
   "source": [
    "Next, we'll introduce placeholders. A placeholder is an object whose value you can specify only later. To specify values for a placeholder, you can pass in values by using a \"feed dictionary\" (feed_dict variable)."
   ]
  },
  {
   "cell_type": "code",
   "execution_count": 6,
   "metadata": {},
   "outputs": [
    {
     "name": "stdout",
     "output_type": "stream",
     "text": [
      "6\n"
     ]
    }
   ],
   "source": [
    "# Example: This is generally used for creating the later initialization of batches for a learning algorithm.\n",
    "x = tf.placeholder(tf.int64, name = 'x')\n",
    "sess=tf.Session()\n",
    "print(sess.run(2 * x, feed_dict = {x: 3}))\n",
    "sess.close()"
   ]
  },
  {
   "cell_type": "markdown",
   "metadata": {},
   "source": [
    "Okay, now let's use Tensorflow powerfull tools to do this mini computer-vision project."
   ]
  },
  {
   "cell_type": "code",
   "execution_count": 17,
   "metadata": {},
   "outputs": [
    {
     "name": "stdout",
     "output_type": "stream",
     "text": [
      "['list_classes', 'train_set_x', 'train_set_y']\n",
      "(1080, 64, 64, 3) (1080,) (6,)\n"
     ]
    }
   ],
   "source": [
    "input_file = \"C:/Users/YsfEss/Desktop/train_signs.h5\"\n",
    "with h5py.File(input_file,'r') as hdf:\n",
    "    ls=list(hdf.keys())\n",
    "    xl=hdf.get('train_set_x')\n",
    "    yl=hdf.get('train_set_y')\n",
    "    cl=hdf.get('list_classes')\n",
    "    imgs=np.array(xl)\n",
    "    labels=np.array(yl)\n",
    "    classes=np.array(cl)\n",
    "print(ls)\n",
    "print(imgs.shape,labels.shape,classes.shape)"
   ]
  },
  {
   "cell_type": "code",
   "execution_count": 19,
   "metadata": {},
   "outputs": [
    {
     "name": "stdout",
     "output_type": "stream",
     "text": [
      "2\n"
     ]
    },
    {
     "data": {
      "text/plain": [
       "<matplotlib.image.AxesImage at 0x1e8f857c7b8>"
      ]
     },
     "execution_count": 19,
     "metadata": {},
     "output_type": "execute_result"
    },
    {
     "data": {
      "image/png": "[encoded data removed]",
      "text/plain": [
       "<Figure size 432x288 with 1 Axes>"
      ]
     },
     "metadata": {
      "needs_background": "light"
     },
     "output_type": "display_data"
    }
   ],
   "source": [
    "index=10\n",
    "print(classes[labels[index]])\n",
    "plt.imshow(imgs[index])"
   ]
  },
  {
   "cell_type": "code",
   "execution_count": 20,
   "metadata": {},
   "outputs": [
    {
     "data": {
      "text/html": [
       "<div>\n",
       "<style scoped>\n",
       "    .dataframe tbody tr th:only-of-type {\n",
       "        vertical-align: middle;\n",
       "    }\n",
       "\n",
       "    .dataframe tbody tr th {\n",
       "        vertical-align: top;\n",
       "    }\n",
       "\n",
       "    .dataframe thead th {\n",
       "        text-align: right;\n",
       "    }\n",
       "</style>\n",
       "<table border=\"1\" class=\"dataframe\">\n",
       "  <thead>\n",
       "    <tr style=\"text-align: right;\">\n",
       "      <th></th>\n",
       "      <th>0</th>\n",
       "      <th>1</th>\n",
       "      <th>2</th>\n",
       "      <th>3</th>\n",
       "      <th>4</th>\n",
       "      <th>5</th>\n",
       "      <th>6</th>\n",
       "      <th>7</th>\n",
       "      <th>8</th>\n",
       "      <th>9</th>\n",
       "      <th>...</th>\n",
       "      <th>12279</th>\n",
       "      <th>12280</th>\n",
       "      <th>12281</th>\n",
       "      <th>12282</th>\n",
       "      <th>12283</th>\n",
       "      <th>12284</th>\n",
       "      <th>12285</th>\n",
       "      <th>12286</th>\n",
       "      <th>12287</th>\n",
       "      <th>CLASS</th>\n",
       "    </tr>\n",
       "  </thead>\n",
       "  <tbody>\n",
       "    <tr>\n",
       "      <th>0</th>\n",
       "      <td>0.890196</td>\n",
       "      <td>0.862745</td>\n",
       "      <td>0.839216</td>\n",
       "      <td>0.890196</td>\n",
       "      <td>0.866667</td>\n",
       "      <td>0.843137</td>\n",
       "      <td>0.890196</td>\n",
       "      <td>0.870588</td>\n",
       "      <td>0.843137</td>\n",
       "      <td>0.890196</td>\n",
       "      <td>...</td>\n",
       "      <td>0.819608</td>\n",
       "      <td>0.823529</td>\n",
       "      <td>0.823529</td>\n",
       "      <td>0.819608</td>\n",
       "      <td>0.823529</td>\n",
       "      <td>0.819608</td>\n",
       "      <td>0.815686</td>\n",
       "      <td>0.819608</td>\n",
       "      <td>0.819608</td>\n",
       "      <td>5</td>\n",
       "    </tr>\n",
       "    <tr>\n",
       "      <th>1</th>\n",
       "      <td>0.933333</td>\n",
       "      <td>0.909804</td>\n",
       "      <td>0.874510</td>\n",
       "      <td>0.933333</td>\n",
       "      <td>0.909804</td>\n",
       "      <td>0.874510</td>\n",
       "      <td>0.933333</td>\n",
       "      <td>0.909804</td>\n",
       "      <td>0.874510</td>\n",
       "      <td>0.929412</td>\n",
       "      <td>...</td>\n",
       "      <td>0.839216</td>\n",
       "      <td>0.796078</td>\n",
       "      <td>0.760784</td>\n",
       "      <td>0.843137</td>\n",
       "      <td>0.796078</td>\n",
       "      <td>0.760784</td>\n",
       "      <td>0.843137</td>\n",
       "      <td>0.800000</td>\n",
       "      <td>0.752941</td>\n",
       "      <td>0</td>\n",
       "    </tr>\n",
       "    <tr>\n",
       "      <th>2</th>\n",
       "      <td>0.894118</td>\n",
       "      <td>0.862745</td>\n",
       "      <td>0.815686</td>\n",
       "      <td>0.894118</td>\n",
       "      <td>0.862745</td>\n",
       "      <td>0.815686</td>\n",
       "      <td>0.890196</td>\n",
       "      <td>0.858824</td>\n",
       "      <td>0.815686</td>\n",
       "      <td>0.890196</td>\n",
       "      <td>...</td>\n",
       "      <td>0.815686</td>\n",
       "      <td>0.800000</td>\n",
       "      <td>0.784314</td>\n",
       "      <td>0.823529</td>\n",
       "      <td>0.807843</td>\n",
       "      <td>0.788235</td>\n",
       "      <td>0.827451</td>\n",
       "      <td>0.811765</td>\n",
       "      <td>0.792157</td>\n",
       "      <td>2</td>\n",
       "    </tr>\n",
       "    <tr>\n",
       "      <th>3</th>\n",
       "      <td>0.894118</td>\n",
       "      <td>0.858824</td>\n",
       "      <td>0.815686</td>\n",
       "      <td>0.898039</td>\n",
       "      <td>0.858824</td>\n",
       "      <td>0.815686</td>\n",
       "      <td>0.894118</td>\n",
       "      <td>0.862745</td>\n",
       "      <td>0.815686</td>\n",
       "      <td>0.890196</td>\n",
       "      <td>...</td>\n",
       "      <td>0.780392</td>\n",
       "      <td>0.760784</td>\n",
       "      <td>0.760784</td>\n",
       "      <td>0.784314</td>\n",
       "      <td>0.764706</td>\n",
       "      <td>0.756863</td>\n",
       "      <td>0.788235</td>\n",
       "      <td>0.768627</td>\n",
       "      <td>0.756863</td>\n",
       "      <td>5</td>\n",
       "    </tr>\n",
       "    <tr>\n",
       "      <th>4</th>\n",
       "      <td>0.882353</td>\n",
       "      <td>0.850980</td>\n",
       "      <td>0.800000</td>\n",
       "      <td>0.882353</td>\n",
       "      <td>0.854902</td>\n",
       "      <td>0.803922</td>\n",
       "      <td>0.882353</td>\n",
       "      <td>0.854902</td>\n",
       "      <td>0.807843</td>\n",
       "      <td>0.882353</td>\n",
       "      <td>...</td>\n",
       "      <td>0.803922</td>\n",
       "      <td>0.792157</td>\n",
       "      <td>0.788235</td>\n",
       "      <td>0.792157</td>\n",
       "      <td>0.780392</td>\n",
       "      <td>0.776471</td>\n",
       "      <td>0.780392</td>\n",
       "      <td>0.764706</td>\n",
       "      <td>0.752941</td>\n",
       "      <td>2</td>\n",
       "    </tr>\n",
       "  </tbody>\n",
       "</table>\n",
       "<p>5 rows × 12289 columns</p>\n",
       "</div>"
      ],
      "text/plain": [
       "          0         1         2         3         4         5         6  \\\n",
       "0  0.890196  0.862745  0.839216  0.890196  0.866667  0.843137  0.890196   \n",
       "1  0.933333  0.909804  0.874510  0.933333  0.909804  0.874510  0.933333   \n",
       "2  0.894118  0.862745  0.815686  0.894118  0.862745  0.815686  0.890196   \n",
       "3  0.894118  0.858824  0.815686  0.898039  0.858824  0.815686  0.894118   \n",
       "4  0.882353  0.850980  0.800000  0.882353  0.854902  0.803922  0.882353   \n",
       "\n",
       "          7         8         9  ...     12279     12280     12281     12282  \\\n",
       "0  0.870588  0.843137  0.890196  ...  0.819608  0.823529  0.823529  0.819608   \n",
       "1  0.909804  0.874510  0.929412  ...  0.839216  0.796078  0.760784  0.843137   \n",
       "2  0.858824  0.815686  0.890196  ...  0.815686  0.800000  0.784314  0.823529   \n",
       "3  0.862745  0.815686  0.890196  ...  0.780392  0.760784  0.760784  0.784314   \n",
       "4  0.854902  0.807843  0.882353  ...  0.803922  0.792157  0.788235  0.792157   \n",
       "\n",
       "      12283     12284     12285     12286     12287  CLASS  \n",
       "0  0.823529  0.819608  0.815686  0.819608  0.819608      5  \n",
       "1  0.796078  0.760784  0.843137  0.800000  0.752941      0  \n",
       "2  0.807843  0.788235  0.827451  0.811765  0.792157      2  \n",
       "3  0.764706  0.756863  0.788235  0.768627  0.756863      5  \n",
       "4  0.780392  0.776471  0.780392  0.764706  0.752941      2  \n",
       "\n",
       "[5 rows x 12289 columns]"
      ]
     },
     "execution_count": 20,
     "metadata": {},
     "output_type": "execute_result"
    }
   ],
   "source": [
    "n=imgs.shape[0] # Number of observations.\n",
    "p=imgs.shape[1]*imgs.shape[2]*imgs.shape[3] # Number of attributes/features.\n",
    "data=imgs.reshape(n,p)\n",
    "TrData=pd.DataFrame(data=data)\n",
    "# Neural network means we have to normalize our data by deviding each entry by 255.\n",
    "TrData=TrData.applymap(lambda x:x/255)\n",
    "labels=pd.DataFrame(data=labels,columns=['CLASS'])\n",
    "TrData=pd.concat([TrData,labels],axis=1)\n",
    "TrData.head()"
   ]
  },
  {
   "cell_type": "code",
   "execution_count": null,
   "metadata": {},
   "outputs": [],
   "source": []
  }
 ],
 "metadata": {
  "kernelspec": {
   "display_name": "Python 3",
   "language": "python",
   "name": "python3"
  },
  "language_info": {
   "codemirror_mode": {
    "name": "ipython",
    "version": 3
   },
   "file_extension": ".py",
   "mimetype": "text/x-python",
   "name": "python",
   "nbconvert_exporter": "python",
   "pygments_lexer": "ipython3",
   "version": "3.7.3"
  }
 },
 "nbformat": 4,
 "nbformat_minor": 2
}
